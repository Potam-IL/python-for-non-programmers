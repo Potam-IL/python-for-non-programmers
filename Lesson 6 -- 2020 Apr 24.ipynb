{
 "cells": [
  {
   "cell_type": "code",
   "execution_count": 18,
   "metadata": {
    "scrolled": true
   },
   "outputs": [
    {
     "name": "stdout",
     "output_type": "stream",
     "text": [
      "Enter a string: abcdefg\n",
      "Enter a letter: g\n",
      "I found g at index 6\n",
      "Its neighbors are at fg\n"
     ]
    }
   ],
   "source": [
    "# ask user to enter a string\n",
    "# ask the user to enter a letter\n",
    "\n",
    "# print the index at which the letter is located.\n",
    "# also print the letter preceding and following that letter\n",
    "\n",
    "s = input(\"Enter a string: \").strip()\n",
    "look_for = input(\"Enter a letter: \").strip()\n",
    "\n",
    "i = s.find(look_for)\n",
    "\n",
    "if i == -1:\n",
    "    print(f'{look_for} is not in {s}')\n",
    "else:\n",
    "    print(f'I found {s[i]} at index {i}')\n",
    "    if i > 0:\n",
    "        print(f'Its neighbors are at {s[i-1:i+2]}')   # start:stop+1\n",
    "    else:\n",
    "        print(f'Its neighbors are at {s[i:i+2]}')"
   ]
  },
  {
   "cell_type": "code",
   "execution_count": 16,
   "metadata": {},
   "outputs": [
    {
     "data": {
      "text/plain": [
       "''"
      ]
     },
     "execution_count": 16,
     "metadata": {},
     "output_type": "execute_result"
    }
   ],
   "source": [
    "s[-1:2] # index of -1 is the FINAL CHARACTER in the string"
   ]
  },
  {
   "cell_type": "code",
   "execution_count": 22,
   "metadata": {},
   "outputs": [
    {
     "data": {
      "text/plain": [
       "'f'"
      ]
     },
     "execution_count": 22,
     "metadata": {},
     "output_type": "execute_result"
    }
   ],
   "source": [
    "s[i-1]"
   ]
  },
  {
   "cell_type": "code",
   "execution_count": 24,
   "metadata": {},
   "outputs": [
    {
     "ename": "IndexError",
     "evalue": "string index out of range",
     "output_type": "error",
     "traceback": [
      "\u001b[0;31m---------------------------------------------------------------------------\u001b[0m",
      "\u001b[0;31mIndexError\u001b[0m                                Traceback (most recent call last)",
      "\u001b[0;32m<ipython-input-24-9fcb2e7e3d41>\u001b[0m in \u001b[0;36m<module>\u001b[0;34m\u001b[0m\n\u001b[0;32m----> 1\u001b[0;31m \u001b[0ms\u001b[0m\u001b[0;34m[\u001b[0m\u001b[0mi\u001b[0m\u001b[0;34m+\u001b[0m\u001b[0;36m2\u001b[0m\u001b[0;34m]\u001b[0m   \u001b[0;31m# you cannot request an INDEX greater than len(s)\u001b[0m\u001b[0;34m\u001b[0m\u001b[0;34m\u001b[0m\u001b[0m\n\u001b[0m",
      "\u001b[0;31mIndexError\u001b[0m: string index out of range"
     ]
    }
   ],
   "source": [
    "s[i+2]   # you cannot request an INDEX greater than len(s)\n"
   ]
  },
  {
   "cell_type": "code",
   "execution_count": 25,
   "metadata": {},
   "outputs": [
    {
     "data": {
      "text/plain": [
       "'g'"
      ]
     },
     "execution_count": 25,
     "metadata": {},
     "output_type": "execute_result"
    }
   ],
   "source": [
    "# but you can have a slice whose index goes beyond the string\n",
    "s[i:10000000]"
   ]
  },
  {
   "cell_type": "code",
   "execution_count": 4,
   "metadata": {},
   "outputs": [
    {
     "data": {
      "text/plain": [
       "-1"
      ]
     },
     "execution_count": 4,
     "metadata": {},
     "output_type": "execute_result"
    }
   ],
   "source": [
    "s.find('!')"
   ]
  },
  {
   "cell_type": "code",
   "execution_count": 32,
   "metadata": {},
   "outputs": [
    {
     "name": "stdout",
     "output_type": "stream",
     "text": [
      "Enter a string: abcdefg\n",
      "Enter start index: \n",
      "Enter stop index: \n",
      "You must enter numbers for the start and stop!\n"
     ]
    }
   ],
   "source": [
    "# Ask the user to enter a string\n",
    "# Ask the user to enter two numbers (separate inputs)\n",
    "# Print the string from the first to the second\n",
    "\n",
    "s = input(\"Enter a string: \").strip()\n",
    "start = input(\"Enter start index: \").strip()\n",
    "stop = input(\"Enter stop index: \").strip()\n",
    "\n",
    "if start.isdigit() and stop.isdigit():\n",
    "    start = int(start)\n",
    "    stop = int(stop)\n",
    "    \n",
    "    if start < 0:\n",
    "        print(f'{start} is < 0')\n",
    "    elif start >= len(s):\n",
    "        print(f'{start} is too big')\n",
    "    elif stop < 0:\n",
    "        print(f'{stop} is < 0')\n",
    "    elif stop >= len(s):\n",
    "        print(f'{stop} is too big')\n",
    "    elif start > stop:\n",
    "        print(f'{start} is greater than {stop}')\n",
    "    else:\n",
    "        print(s[start:stop])\n",
    "else:\n",
    "    print(f'You must enter numbers for the start and stop!')\n"
   ]
  },
  {
   "cell_type": "code",
   "execution_count": null,
   "metadata": {},
   "outputs": [],
   "source": [
    "0123456\n",
    "abcdefg"
   ]
  },
  {
   "cell_type": "code",
   "execution_count": 33,
   "metadata": {},
   "outputs": [
    {
     "data": {
      "text/plain": [
       "7"
      ]
     },
     "execution_count": 33,
     "metadata": {},
     "output_type": "execute_result"
    }
   ],
   "source": [
    "len(s)"
   ]
  },
  {
   "cell_type": "code",
   "execution_count": 34,
   "metadata": {},
   "outputs": [
    {
     "ename": "IndexError",
     "evalue": "string index out of range",
     "output_type": "error",
     "traceback": [
      "\u001b[0;31m---------------------------------------------------------------------------\u001b[0m",
      "\u001b[0;31mIndexError\u001b[0m                                Traceback (most recent call last)",
      "\u001b[0;32m<ipython-input-34-b035325af127>\u001b[0m in \u001b[0;36m<module>\u001b[0;34m\u001b[0m\n\u001b[0;32m----> 1\u001b[0;31m \u001b[0ms\u001b[0m\u001b[0;34m[\u001b[0m\u001b[0;36m7\u001b[0m\u001b[0;34m]\u001b[0m\u001b[0;34m\u001b[0m\u001b[0;34m\u001b[0m\u001b[0m\n\u001b[0m",
      "\u001b[0;31mIndexError\u001b[0m: string index out of range"
     ]
    }
   ],
   "source": [
    "s[7]"
   ]
  },
  {
   "cell_type": "code",
   "execution_count": 35,
   "metadata": {},
   "outputs": [],
   "source": [
    "# loops!"
   ]
  },
  {
   "cell_type": "code",
   "execution_count": null,
   "metadata": {},
   "outputs": [],
   "source": []
  }
 ],
 "metadata": {
  "kernelspec": {
   "display_name": "Python 3",
   "language": "python",
   "name": "python3"
  },
  "language_info": {
   "codemirror_mode": {
    "name": "ipython",
    "version": 3
   },
   "file_extension": ".py",
   "mimetype": "text/x-python",
   "name": "python",
   "nbconvert_exporter": "python",
   "pygments_lexer": "ipython3",
   "version": "3.7.7"
  }
 },
 "nbformat": 4,
 "nbformat_minor": 2
}
