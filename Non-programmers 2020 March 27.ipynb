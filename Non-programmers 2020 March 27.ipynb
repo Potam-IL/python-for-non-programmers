{
 "cells": [
  {
   "cell_type": "code",
   "execution_count": null,
   "metadata": {},
   "outputs": [],
   "source": [
    "# Define two variables, x and y, with integer values. \n",
    "# Multiply them together, and assign the result to a \n",
    "# third variable, z. Use print to display the value of z.\n",
    "# Hint: In programming, we typically use the * for multiplication.\n",
    "\n",
    "x = 100\n",
    "y = 200\n",
    "\n",
    "z = x * y\n"
   ]
  }
 ],
 "metadata": {
  "kernelspec": {
   "display_name": "Python 3",
   "language": "python",
   "name": "python3"
  },
  "language_info": {
   "codemirror_mode": {
    "name": "ipython",
    "version": 3
   },
   "file_extension": ".py",
   "mimetype": "text/x-python",
   "name": "python",
   "nbconvert_exporter": "python",
   "pygments_lexer": "ipython3",
   "version": "3.7.7"
  }
 },
 "nbformat": 4,
 "nbformat_minor": 2
}
