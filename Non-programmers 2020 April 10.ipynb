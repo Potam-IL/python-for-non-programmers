{
 "cells": [
  {
   "cell_type": "code",
   "execution_count": null,
   "metadata": {},
   "outputs": [],
   "source": [
    "# Ask the user to enter their birth year. \n",
    "# Tell the user how old they’ll turn this year.\n",
    "# (That avoids issues of whether the birthday has already passed.)\n",
    "\n",
    "birth_year = "
   ]
  },
  {
   "cell_type": "code",
   "execution_count": null,
   "metadata": {},
   "outputs": [],
   "source": [
    "# Add to this an if statement that says they’re young, old, or just right, based on their age — and be gentle to those of us who aren’t as young as they used to be!\n",
    "# Imagine a world in which people can go outside for a walk or a run. (I know, we’re fantasizing here.) Have the user enter a distance they walked or run, and how many minutes it took them to go that far. Tell them how fast they walk/run in meters per hour (or miles per hour, if you’re from that kind of country). Note that the user is going to enter minutes, and you have to produce output per hour."
   ]
  }
 ],
 "metadata": {
  "kernelspec": {
   "display_name": "Python 3",
   "language": "python",
   "name": "python3"
  },
  "language_info": {
   "codemirror_mode": {
    "name": "ipython",
    "version": 3
   },
   "file_extension": ".py",
   "mimetype": "text/x-python",
   "name": "python",
   "nbconvert_exporter": "python",
   "pygments_lexer": "ipython3",
   "version": "3.7.7"
  }
 },
 "nbformat": 4,
 "nbformat_minor": 2
}
