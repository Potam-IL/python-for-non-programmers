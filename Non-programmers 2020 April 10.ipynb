{
 "cells": [
  {
   "cell_type": "code",
   "execution_count": null,
   "metadata": {},
   "outputs": [],
   "source": [
    "# https://github.com/reuven/python-for-non-programmers"
   ]
  },
  {
   "cell_type": "code",
   "execution_count": 2,
   "metadata": {},
   "outputs": [
    {
     "name": "stdout",
     "output_type": "stream",
     "text": [
      "Enter your birthyear: 1970\n",
      "This year, you will turn 50\n"
     ]
    }
   ],
   "source": [
    "# Ask the user to enter their birth year. \n",
    "# Tell the user how old they’ll turn this year.\n",
    "# (That avoids issues of whether the birthday has already passed.)\n",
    "\n",
    "birthyear = input(\"Enter your birthyear: \")\n",
    "age_this_year = 2020 - int(birthyear)\n",
    "\n",
    "print(f'This year, you will turn {age_this_year}')"
   ]
  },
  {
   "cell_type": "code",
   "execution_count": 3,
   "metadata": {},
   "outputs": [
    {
     "name": "stdout",
     "output_type": "stream",
     "text": [
      "You are middle aged, believe or not\n"
     ]
    }
   ],
   "source": [
    "# Add to this an if statement that says they’re young, \n",
    "# old, or just right, based on their age — \n",
    "# and be gentle to those of us who aren’t as young as they used to be!\n",
    "\n",
    "if age_this_year < 18:\n",
    "    print(f'You are very young!')\n",
    "elif age_this_year > 65:\n",
    "    print(f'You are amazing')\n",
    "else:\n",
    "    print(f'You are middle aged, believe or not')"
   ]
  },
  {
   "cell_type": "code",
   "execution_count": 6,
   "metadata": {},
   "outputs": [
    {
     "name": "stdout",
     "output_type": "stream",
     "text": [
      "How far did you run (m)? 10000\n",
      "How many minutes did it take you? 60\n",
      "You ran at a pace of 166.66666666666666 m/min\n"
     ]
    }
   ],
   "source": [
    "# Imagine a world in which people can go \n",
    "# outside for a walk or a run. (\n",
    "# I know, we’re fantasizing here.) \n",
    "# Have the user enter a distance they walked or ran, \n",
    "# and how many minutes it took them to go that far. \n",
    "# Tell them how fast they walk/run in meters per hour \n",
    "# (or miles per hour, if you’re from that kind of country).\n",
    "# Note that the user is going to enter minutes,\n",
    "# and you have to produce output per hour.\n",
    "\n",
    "distance = input(\"How far did you run (m)? \")\n",
    "minutes = input(\"How many minutes did it take you? \")\n",
    "\n",
    "pace = float(distance) / float(minutes)\n",
    "\n",
    "print(f'You ran at a pace of {pace} m/min')"
   ]
  },
  {
   "cell_type": "code",
   "execution_count": null,
   "metadata": {},
   "outputs": [],
   "source": []
  }
 ],
 "metadata": {
  "kernelspec": {
   "display_name": "Python 3",
   "language": "python",
   "name": "python3"
  },
  "language_info": {
   "codemirror_mode": {
    "name": "ipython",
    "version": 3
   },
   "file_extension": ".py",
   "mimetype": "text/x-python",
   "name": "python",
   "nbconvert_exporter": "python",
   "pygments_lexer": "ipython3",
   "version": "3.7.7"
  }
 },
 "nbformat": 4,
 "nbformat_minor": 2
}
