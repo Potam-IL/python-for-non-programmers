{
 "cells": [
  {
   "cell_type": "code",
   "execution_count": 1,
   "metadata": {},
   "outputs": [
    {
     "data": {
      "text/plain": [
       "True"
      ]
     },
     "execution_count": 1,
     "metadata": {},
     "output_type": "execute_result"
    }
   ],
   "source": [
    "#     Ask the user to enter two words, \n",
    "#     which you can put into two variables, \n",
    "#     first and second. Use the < and > operators on\n",
    "#     the words to print out which of the words comes earlier alphabetically, \n",
    "#   or if they are the same.\n",
    "\n",
    "# if TRUE_OR_FALSE:\n",
    "#     DO_SOMETHING\n",
    "    \n",
    "# else:\n",
    "#     DO_THE_OPPOSITE\n",
    "\n",
    "'a' < 'b'"
   ]
  },
  {
   "cell_type": "code",
   "execution_count": 2,
   "metadata": {},
   "outputs": [
    {
     "data": {
      "text/plain": [
       "False"
      ]
     },
     "execution_count": 2,
     "metadata": {},
     "output_type": "execute_result"
    }
   ],
   "source": [
    "'b' < 'a'"
   ]
  },
  {
   "cell_type": "code",
   "execution_count": 3,
   "metadata": {},
   "outputs": [
    {
     "data": {
      "text/plain": [
       "False"
      ]
     },
     "execution_count": 3,
     "metadata": {},
     "output_type": "execute_result"
    }
   ],
   "source": [
    "'a' < 'a'"
   ]
  },
  {
   "cell_type": "code",
   "execution_count": 4,
   "metadata": {},
   "outputs": [
    {
     "data": {
      "text/plain": [
       "True"
      ]
     },
     "execution_count": 4,
     "metadata": {},
     "output_type": "execute_result"
    }
   ],
   "source": [
    "'a' <= 'a'"
   ]
  },
  {
   "cell_type": "code",
   "execution_count": null,
   "metadata": {},
   "outputs": [],
   "source": [
    "# if TRUE_OR_FALSE:\n",
    "#     DO_SOMETHING\n",
    "\n",
    "# elif TRUE_OR_FALSE:\n",
    "#     DO_SOMETHING_ELSE\n",
    "    \n",
    "# else:\n",
    "#     DO_THE_OPPOSITE"
   ]
  },
  {
   "cell_type": "code",
   "execution_count": 10,
   "metadata": {},
   "outputs": [
    {
     "name": "stdout",
     "output_type": "stream",
     "text": [
      "Enter first word: elephant\n",
      "Enter second word: elephant\n",
      "elephant and elephant are identical\n"
     ]
    }
   ],
   "source": [
    "# pseudocode \n",
    "\n",
    "first = input(\"Enter first word: \")\n",
    "second = input(\"Enter second word: \")\n",
    "\n",
    "if first < second:\n",
    "    print(f\"{first} comes before {second} alphabetically\")\n",
    "    \n",
    "elif second < first:\n",
    "    print(f\"{second} comes before {first} alphabetically\")\n",
    "    \n",
    "else:\n",
    "    print(f\"{first} and {second} are identical\")"
   ]
  },
  {
   "cell_type": "code",
   "execution_count": null,
   "metadata": {},
   "outputs": [],
   "source": [
    "# pseudocode \n",
    "\n",
    "first = input(\"Enter first word: \")\n",
    "second = input(\"Enter second word: \")\n",
    "\n",
    "if first < second:\n",
    "    print(f\"{first} comes before {second} alphabetically\")\n",
    "    \n",
    "elif second < first:\n",
    "    print(f\"{second} comes before {first} alphabetically\")\n",
    "    \n",
    "elif first == second:\n",
    "    print(f\"{first} and {second} are identical\")\n",
    "    \n",
    "else:\n",
    "    print(f'This is mathematically impossible')"
   ]
  },
  {
   "cell_type": "code",
   "execution_count": 11,
   "metadata": {},
   "outputs": [
    {
     "name": "stdout",
     "output_type": "stream",
     "text": [
      "Enter first word: elephant\n",
      "Enter second word: Elephant\n",
      "Elephant comes before elephant alphabetically\n"
     ]
    }
   ],
   "source": [
    "# pseudocode \n",
    "\n",
    "first = input(\"Enter first word: \")\n",
    "second = input(\"Enter second word: \")\n",
    "\n",
    "if first < second:\n",
    "    print(f\"{first} comes before {second} alphabetically\")\n",
    "    \n",
    "elif second < first:\n",
    "    print(f\"{second} comes before {first} alphabetically\")\n",
    "    \n",
    "else:\n",
    "    print(f\"{first} and {second} are identical\")"
   ]
  },
  {
   "cell_type": "code",
   "execution_count": 12,
   "metadata": {},
   "outputs": [
    {
     "data": {
      "text/plain": [
       "True"
      ]
     },
     "execution_count": 12,
     "metadata": {},
     "output_type": "execute_result"
    }
   ],
   "source": [
    "'Z' < 'a'"
   ]
  },
  {
   "cell_type": "code",
   "execution_count": 16,
   "metadata": {},
   "outputs": [
    {
     "name": "stdout",
     "output_type": "stream",
     "text": [
      "Enter a letter:  \n",
      "not a vowel!\n"
     ]
    }
   ],
   "source": [
    "# Ask the user to enter a single letter. \n",
    "# Indicate if the user has entered a vowel (a, e, i, o, or u) or not.\n",
    "\n",
    "letter = input(\"Enter a letter: \")\n",
    "\n",
    "if letter =='a':\n",
    "    print(\"A vowel!\")\n",
    "    \n",
    "elif letter == 'e':\n",
    "    print(\"A vowel!\")\n",
    "    \n",
    "elif letter == 'i':\n",
    "    print(\"A vowel!\")\n",
    "    \n",
    "elif letter == 'o':\n",
    "    print(\"A vowel!\")\n",
    "    \n",
    "elif letter == 'u':\n",
    "    print(\"A vowel!\")\n",
    "    \n",
    "else:\n",
    "    print(\"not a vowel!\")"
   ]
  },
  {
   "cell_type": "code",
   "execution_count": 20,
   "metadata": {},
   "outputs": [
    {
     "name": "stdout",
     "output_type": "stream",
     "text": [
      "Enter a letter: q\n",
      "No, q is not a vowel\n"
     ]
    }
   ],
   "source": [
    "letter = input(\"Enter a letter: \")\n",
    "\n",
    "if letter =='a' or letter =='e' or letter =='i' or letter =='o' or letter =='u':\n",
    "    print(f\"Yes, {letter} is a vowel!\")\n",
    "else:\n",
    "    print(f'No, {letter} is not a vowel')"
   ]
  },
  {
   "cell_type": "code",
   "execution_count": 25,
   "metadata": {},
   "outputs": [
    {
     "name": "stdout",
     "output_type": "stream",
     "text": [
      "Enter a letter:  \n",
      "Yes,   is a vowel!\n"
     ]
    }
   ],
   "source": [
    "letter = input(\"Enter a letter: \")\n",
    "\n",
    "if letter =='a' or 'e' or 'i' or 'o' or 'u':\n",
    "    print(f\"Yes, {letter} is a vowel!\")\n",
    "else:\n",
    "    print(f'No, {letter} is not a vowel')"
   ]
  },
  {
   "cell_type": "code",
   "execution_count": null,
   "metadata": {},
   "outputs": [],
   "source": [
    "vowels = ['a', 'e', 'i', 'o', 'u']"
   ]
  }
 ],
 "metadata": {
  "kernelspec": {
   "display_name": "Python 3",
   "language": "python",
   "name": "python3"
  },
  "language_info": {
   "codemirror_mode": {
    "name": "ipython",
    "version": 3
   },
   "file_extension": ".py",
   "mimetype": "text/x-python",
   "name": "python",
   "nbconvert_exporter": "python",
   "pygments_lexer": "ipython3",
   "version": "3.7.7"
  }
 },
 "nbformat": 4,
 "nbformat_minor": 2
}
