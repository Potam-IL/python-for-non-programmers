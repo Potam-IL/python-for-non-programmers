{
 "cells": [
  {
   "cell_type": "code",
   "execution_count": 4,
   "metadata": {
    "scrolled": true
   },
   "outputs": [
    {
     "name": "stdout",
     "output_type": "stream",
     "text": [
      "Enter a sentence: Is this a test?\n",
      "vowels: 4\n",
      "digits: 0\n",
      "other: 11\n"
     ]
    }
   ],
   "source": [
    "# (1) Ask the user to enter a sentence.\n",
    "# Print the number of vowels, digits, and other characters \n",
    "# that were in the user’s sentence\n",
    "\n",
    "vowel_count = 0\n",
    "digit_count = 0\n",
    "other_count = 0\n",
    "\n",
    "s = input(\"Enter a sentence: \").strip()\n",
    "\n",
    "for one_character in s:\n",
    "    if one_character.lower() in 'aeiou':\n",
    "        vowel_count += 1\n",
    "        \n",
    "    elif one_character.isdigit():\n",
    "        digit_count += 1\n",
    "        \n",
    "    else:\n",
    "        other_count += 1\n",
    "        \n",
    "print(f'vowels: {vowel_count}')\n",
    "print(f'digits: {digit_count}')\n",
    "print(f'other: {other_count}')     "
   ]
  },
  {
   "cell_type": "code",
   "execution_count": 5,
   "metadata": {},
   "outputs": [
    {
     "data": {
      "text/plain": [
       "'a    b  c'"
      ]
     },
     "execution_count": 5,
     "metadata": {},
     "output_type": "execute_result"
    }
   ],
   "source": [
    "s = '   a    b  c    '\n",
    "s.strip()"
   ]
  },
  {
   "cell_type": "code",
   "execution_count": 6,
   "metadata": {},
   "outputs": [
    {
     "name": "stdout",
     "output_type": "stream",
     "text": [
      "Enter your name: Reuven\n"
     ]
    }
   ],
   "source": [
    "# (2) Ask the user to enter their name. \n",
    "# Print a “name triangle,” meaning: \n",
    "# On the first line, print just the first letter.\n",
    "# Then on the second line, print the first two letters.\n",
    "# Then on the third line, print the first three letters…\n",
    "# If the name is n letter long, then there should be n lines,\n",
    "# with the nth line printing the user’s name (as entered).\n",
    "\n",
    "name = input(\"Enter your name: \").strip()\n",
    "\n"
   ]
  },
  {
   "cell_type": "code",
   "execution_count": 8,
   "metadata": {},
   "outputs": [
    {
     "name": "stdout",
     "output_type": "stream",
     "text": [
      "R\n",
      "Re\n",
      "Reu\n",
      "Reuv\n",
      "Reuve\n",
      "Reuven\n"
     ]
    }
   ],
   "source": [
    "# run the \"for\" loop as many times\n",
    "# as there are letters in \"name\"\n",
    "\n",
    "for counter in range(len(name)):   # range(6) -- 0,1,2,3,4,5\n",
    "    print(name[:counter+1])   \n",
    "    \n",
    "\n",
    "# R           # name[:1]\n",
    "# Re          # name[:2]\n",
    "# Reu         # name[:3]\n",
    "# Reuv        # name[:4]\n",
    "# Reuve       # name[:5]\n",
    "# Reuven      # name[:6]\n"
   ]
  },
  {
   "cell_type": "code",
   "execution_count": 9,
   "metadata": {},
   "outputs": [
    {
     "name": "stdout",
     "output_type": "stream",
     "text": [
      "Enter a number: 12\n",
      "Enter a number: 58\n",
      "Enter a number: abcd\n",
      "abcd is not a number!  Try again!\n",
      "Enter a number: 1b\n",
      "1b is not a number!  Try again!\n",
      "Enter a number: 39\n",
      "Enter a number: \n",
      "Total is 109\n"
     ]
    }
   ],
   "source": [
    "# Ask the user, repeatedly, to enter numbers.\n",
    "# If they enter an empty/blank string, \n",
    "# then stop asking and print the total. \n",
    "# If the user enters a non-number, then scold them and ask again.\n",
    "\n",
    "total = 0\n",
    "\n",
    "while True:\n",
    "    number = input(\"Enter a number: \").strip()\n",
    "    \n",
    "    if number == '':\n",
    "        break   # exit the \"while\" loop right away!\n",
    "        \n",
    "    if not number.isdigit():\n",
    "        print(f'{number} is not a number!  Try again!')\n",
    "        continue\n",
    "        \n",
    "    total += int(number)\n",
    "    \n",
    "print(f'Total is {total}')"
   ]
  },
  {
   "cell_type": "code",
   "execution_count": 10,
   "metadata": {},
   "outputs": [],
   "source": [
    "# Lists\n",
    "\n",
    "# a list is a generic container for other objects\n",
    "# a list can contain *ANY NUMBER* of *ANY TYPE* of objects\n",
    "\n",
    "# Define a list with [] and , between elements\n",
    "mylist = [10, 20, 30, 40]"
   ]
  },
  {
   "cell_type": "code",
   "execution_count": 11,
   "metadata": {},
   "outputs": [
    {
     "data": {
      "text/plain": [
       "list"
      ]
     },
     "execution_count": 11,
     "metadata": {},
     "output_type": "execute_result"
    }
   ],
   "source": [
    "type(mylist)   # what data type is this?"
   ]
  },
  {
   "cell_type": "code",
   "execution_count": 19,
   "metadata": {},
   "outputs": [],
   "source": [
    "mylist = [10, 20, 30, 40, 'hello', 'out', 'there']"
   ]
  },
  {
   "cell_type": "code",
   "execution_count": 20,
   "metadata": {},
   "outputs": [
    {
     "name": "stdout",
     "output_type": "stream",
     "text": [
      "10\n",
      "20\n",
      "30\n",
      "40\n"
     ]
    }
   ],
   "source": [
    "# retrieve via index, with 0 being the first element\n",
    "print(mylist[0])\n",
    "print(mylist[1])\n",
    "print(mylist[2])\n",
    "print(mylist[3])"
   ]
  },
  {
   "cell_type": "code",
   "execution_count": 21,
   "metadata": {},
   "outputs": [
    {
     "data": {
      "text/plain": [
       "[20, 30, 40]"
      ]
     },
     "execution_count": 21,
     "metadata": {},
     "output_type": "execute_result"
    }
   ],
   "source": [
    "# slices work, too!\n",
    "mylist[1:4]"
   ]
  },
  {
   "cell_type": "code",
   "execution_count": 22,
   "metadata": {},
   "outputs": [
    {
     "data": {
      "text/plain": [
       "7"
      ]
     },
     "execution_count": 22,
     "metadata": {},
     "output_type": "execute_result"
    }
   ],
   "source": [
    "len(mylist)"
   ]
  },
  {
   "cell_type": "code",
   "execution_count": 23,
   "metadata": {},
   "outputs": [
    {
     "data": {
      "text/plain": [
       "True"
      ]
     },
     "execution_count": 23,
     "metadata": {},
     "output_type": "execute_result"
    }
   ],
   "source": [
    "30 in mylist"
   ]
  },
  {
   "cell_type": "code",
   "execution_count": 15,
   "metadata": {},
   "outputs": [
    {
     "name": "stdout",
     "output_type": "stream",
     "text": [
      "10\n",
      "20\n",
      "30\n",
      "40\n"
     ]
    }
   ],
   "source": [
    "for one_item in mylist:\n",
    "    print(one_item)"
   ]
  },
  {
   "cell_type": "code",
   "execution_count": 16,
   "metadata": {},
   "outputs": [
    {
     "name": "stdout",
     "output_type": "stream",
     "text": [
      "abcd\n",
      "efgh\n",
      "ijkl\n"
     ]
    }
   ],
   "source": [
    "mylist = ['abcd', 'efgh', 'ijkl']\n",
    "\n",
    "for one_item in mylist:\n",
    "    print(one_item)"
   ]
  },
  {
   "cell_type": "code",
   "execution_count": 30,
   "metadata": {},
   "outputs": [],
   "source": [
    "mylist = [10, 20, 30, 40]\n",
    "\n",
    "biglist = [mylist, mylist, mylist]"
   ]
  },
  {
   "cell_type": "code",
   "execution_count": 31,
   "metadata": {},
   "outputs": [
    {
     "data": {
      "text/plain": [
       "3"
      ]
     },
     "execution_count": 31,
     "metadata": {},
     "output_type": "execute_result"
    }
   ],
   "source": [
    "len(biglist)"
   ]
  },
  {
   "cell_type": "code",
   "execution_count": 32,
   "metadata": {},
   "outputs": [
    {
     "data": {
      "text/plain": [
       "'a'"
      ]
     },
     "execution_count": 32,
     "metadata": {},
     "output_type": "execute_result"
    }
   ],
   "source": [
    "s = 'abcd'\n",
    "s[0]"
   ]
  },
  {
   "cell_type": "code",
   "execution_count": 33,
   "metadata": {},
   "outputs": [
    {
     "ename": "TypeError",
     "evalue": "'str' object does not support item assignment",
     "output_type": "error",
     "traceback": [
      "\u001b[0;31m---------------------------------------------------------------------------\u001b[0m",
      "\u001b[0;31mTypeError\u001b[0m                                 Traceback (most recent call last)",
      "\u001b[0;32m<ipython-input-33-f0d3010d989d>\u001b[0m in \u001b[0;36m<module>\u001b[0;34m\u001b[0m\n\u001b[0;32m----> 1\u001b[0;31m \u001b[0ms\u001b[0m\u001b[0;34m[\u001b[0m\u001b[0;36m0\u001b[0m\u001b[0;34m]\u001b[0m \u001b[0;34m=\u001b[0m \u001b[0;34m'!'\u001b[0m \u001b[0;31m# try to change s[0] -- strings are immutable!\u001b[0m\u001b[0;34m\u001b[0m\u001b[0;34m\u001b[0m\u001b[0m\n\u001b[0m",
      "\u001b[0;31mTypeError\u001b[0m: 'str' object does not support item assignment"
     ]
    }
   ],
   "source": [
    "s[0] = '!' # try to change s[0] -- strings are immutable!"
   ]
  },
  {
   "cell_type": "code",
   "execution_count": 34,
   "metadata": {},
   "outputs": [],
   "source": [
    "mylist[0] = '!'  # succeeds, because lists are mutable"
   ]
  },
  {
   "cell_type": "code",
   "execution_count": 35,
   "metadata": {},
   "outputs": [
    {
     "data": {
      "text/plain": [
       "['!', 20, 30, 40]"
      ]
     },
     "execution_count": 35,
     "metadata": {},
     "output_type": "execute_result"
    }
   ],
   "source": [
    "mylist"
   ]
  },
  {
   "cell_type": "code",
   "execution_count": 36,
   "metadata": {},
   "outputs": [
    {
     "data": {
      "text/plain": [
       "[['!', 20, 30, 40], ['!', 20, 30, 40], ['!', 20, 30, 40]]"
      ]
     },
     "execution_count": 36,
     "metadata": {},
     "output_type": "execute_result"
    }
   ],
   "source": [
    "biglist"
   ]
  },
  {
   "cell_type": "code",
   "execution_count": 37,
   "metadata": {},
   "outputs": [
    {
     "data": {
      "text/plain": [
       "[10, 20, 30, 40]"
      ]
     },
     "execution_count": 37,
     "metadata": {},
     "output_type": "execute_result"
    }
   ],
   "source": [
    "mylist = [10, 20, 30, 40]\n",
    "mylist"
   ]
  },
  {
   "cell_type": "code",
   "execution_count": 38,
   "metadata": {},
   "outputs": [
    {
     "data": {
      "text/plain": [
       "[10, 20, '!!!', 40]"
      ]
     },
     "execution_count": 38,
     "metadata": {},
     "output_type": "execute_result"
    }
   ],
   "source": [
    "mylist[2] = '!!!'\n",
    "mylist"
   ]
  },
  {
   "cell_type": "code",
   "execution_count": 39,
   "metadata": {},
   "outputs": [
    {
     "data": {
      "text/plain": [
       "[10, 20, 30, 40, 50]"
      ]
     },
     "execution_count": 39,
     "metadata": {},
     "output_type": "execute_result"
    }
   ],
   "source": [
    "mylist = [10, 20, 30, 40]\n",
    "mylist.append(50)  # meaning: add the int 50 to mylist\n",
    "\n",
    "mylist"
   ]
  },
  {
   "cell_type": "code",
   "execution_count": 40,
   "metadata": {},
   "outputs": [
    {
     "data": {
      "text/plain": [
       "[10, 30, 20, 15, 3, 7]"
      ]
     },
     "execution_count": 40,
     "metadata": {},
     "output_type": "execute_result"
    }
   ],
   "source": [
    "mylist = [10, 30, 20, 15, 3, 7]\n",
    "mylist"
   ]
  },
  {
   "cell_type": "code",
   "execution_count": 41,
   "metadata": {},
   "outputs": [],
   "source": [
    "mylist.sort()  # this changes mylist, ordering the elements"
   ]
  },
  {
   "cell_type": "code",
   "execution_count": 42,
   "metadata": {},
   "outputs": [
    {
     "data": {
      "text/plain": [
       "[3, 7, 10, 15, 20, 30]"
      ]
     },
     "execution_count": 42,
     "metadata": {},
     "output_type": "execute_result"
    }
   ],
   "source": [
    "mylist"
   ]
  },
  {
   "cell_type": "code",
   "execution_count": 43,
   "metadata": {},
   "outputs": [
    {
     "data": {
      "text/plain": [
       "[30, 20, 15, 10, 7, 3]"
      ]
     },
     "execution_count": 43,
     "metadata": {},
     "output_type": "execute_result"
    }
   ],
   "source": [
    "mylist.sort(reverse=True)  # now in descending order\n",
    "mylist"
   ]
  },
  {
   "cell_type": "code",
   "execution_count": 44,
   "metadata": {},
   "outputs": [
    {
     "data": {
      "text/plain": [
       "[[10, 20, 30, 40], [10, 20, 30, 40], [10, 20, 30, 40]]"
      ]
     },
     "execution_count": 44,
     "metadata": {},
     "output_type": "execute_result"
    }
   ],
   "source": [
    "mylist = [10, 20, 30, 40]\n",
    "biglist = [mylist, mylist, mylist]\n",
    "\n",
    "biglist"
   ]
  },
  {
   "cell_type": "code",
   "execution_count": 45,
   "metadata": {},
   "outputs": [
    {
     "data": {
      "text/plain": [
       "['!', 20, 30, 40]"
      ]
     },
     "execution_count": 45,
     "metadata": {},
     "output_type": "execute_result"
    }
   ],
   "source": [
    "# mylist == biglist[0] == biglist[1] == biglist[2]\n",
    "\n",
    "mylist[0] = '!'\n",
    "mylist"
   ]
  },
  {
   "cell_type": "code",
   "execution_count": 46,
   "metadata": {},
   "outputs": [
    {
     "data": {
      "text/plain": [
       "[['!', 20, 30, 40], ['!', 20, 30, 40], ['!', 20, 30, 40]]"
      ]
     },
     "execution_count": 46,
     "metadata": {},
     "output_type": "execute_result"
    }
   ],
   "source": [
    "biglist"
   ]
  },
  {
   "cell_type": "code",
   "execution_count": 47,
   "metadata": {},
   "outputs": [
    {
     "data": {
      "text/plain": [
       "[['!', '?', 30, 40], ['!', '?', 30, 40], ['!', '?', 30, 40]]"
      ]
     },
     "execution_count": 47,
     "metadata": {},
     "output_type": "execute_result"
    }
   ],
   "source": [
    "biglist[1][1] = '?'\n",
    "biglist"
   ]
  },
  {
   "cell_type": "code",
   "execution_count": 48,
   "metadata": {},
   "outputs": [
    {
     "data": {
      "text/plain": [
       "['!', '?', 30, 40]"
      ]
     },
     "execution_count": 48,
     "metadata": {},
     "output_type": "execute_result"
    }
   ],
   "source": [
    "mylist"
   ]
  },
  {
   "cell_type": "code",
   "execution_count": 49,
   "metadata": {},
   "outputs": [],
   "source": [
    "mylist = []  # creates an empty list, and assigns to \"mylist\""
   ]
  },
  {
   "cell_type": "code",
   "execution_count": 50,
   "metadata": {},
   "outputs": [
    {
     "name": "stdout",
     "output_type": "stream",
     "text": [
      "total = 139, mean = 27.8\n"
     ]
    }
   ],
   "source": [
    "# (1) Create a list containing several integers\n",
    "# (2) Use a \"for\" loop to iterate over the list,\n",
    "#    totalling the numbers\n",
    "# (3) Print the total and the mean/average\n",
    "#  remember: len(mylist) returns the length\n",
    "\n",
    "mylist = [10, 15, 23, 79, 12]\n",
    "\n",
    "total = 0\n",
    "for one_item in mylist:\n",
    "    total += one_item\n",
    "    \n",
    "print(f'total = {total}, mean = {total/len(mylist)}')"
   ]
  },
  {
   "cell_type": "code",
   "execution_count": 52,
   "metadata": {},
   "outputs": [
    {
     "name": "stdout",
     "output_type": "stream",
     "text": [
      "emond.d\n",
      "xinetd.d-migrated2launchd\n",
      "ssh_config.system_default\n",
      "ssh_config.applesaved\n",
      "periodic\n",
      "manpaths\n",
      "services~previous\n",
      "rc.common\n",
      "csh.logout~orig\n",
      "auto_master\n",
      "php.ini.default-5.2-previous~orig\n",
      "csh.login\n",
      "syslog.conf\n",
      "rtadvd.conf~previous\n",
      "syslog.conf~previous\n",
      "krb5.keytab\n",
      "sudoers.d\n",
      "bash_completion.d\n",
      "ssl\n",
      "kern_loader.conf.applesaved\n",
      "nanorc\n",
      "ttys~previous\n",
      "csh.logout\n",
      "aliases.db\n",
      "hosts.lpd\n",
      "bashrc_Apple_Terminal\n",
      "racoon\n",
      "snmp\n",
      "zshrc_Apple_Terminal\n",
      "named.conf.applesaved\n",
      "gettytab\n",
      "master.passwd~orig\n",
      "kern_loader.conf\n",
      "authorization.user_modified\n",
      "networks~orig\n",
      "paths.d\n",
      "asl\n",
      "csh.login~orig\n",
      "rtadvd.conf\n",
      "security\n",
      "protocols~previous\n",
      "group\n",
      "printcap\n",
      "auto_home\n",
      "php.ini.default-previous\n",
      "sudoers~\n",
      "manpaths.d\n",
      "smb.conf.applesaved\n",
      "ppp\n",
      "shells\n",
      "pear.conf-previous\n",
      "crontab\n",
      "slpsa.conf.applesaved\n",
      "rc.common~previous\n",
      "xinetd.d\n",
      "ttys\n",
      "php-fpm.d\n",
      "group~previous\n",
      "php-fpm.conf.default\n",
      "paths\n",
      "rmtab\n",
      "csh.cshrc~orig\n",
      "inetd.conf.applesaved\n",
      "xtab\n",
      "php.ini.default\n",
      "syslog.conf.applesaved\n",
      "localtime\n",
      "pf.conf\n",
      "6to4.conf.applesaved\n",
      "CiscoSystemsVPNClient\n",
      "launchd.conf\n",
      "sudoers\n",
      "ftpusers~orig\n",
      "bashrc\n",
      "find.codes~orig\n",
      "auto_master~orig\n",
      "newsyslog.d\n",
      "emacs\n",
      "irbrc\n",
      "pam.d\n",
      "zshrc\n",
      "defaults\n",
      "hosts.equiv\n",
      "networks\n",
      "find.codes\n",
      "rpc~previous\n",
      "apache2\n",
      "autofs.conf\n",
      "ssh\n",
      "ftpusers\n",
      "postgres-reg.ini\n",
      "slpsa.conf\n",
      "profile\n",
      "csh.cshrc\n",
      "fstab.hd~previous\n",
      "ntp.conf.applesaved\n",
      "ntp_opendirectory.conf\n",
      "ssh_config~orig\n",
      "profile~orig\n",
      "authorization.deprecated\n",
      "locate.rc\n",
      "resolv.conf\n",
      "nfs.conf\n",
      "crontab.applesaved\n",
      "dictionaries-common\n",
      "sudoers~orig\n",
      "sudo_lecture\n",
      "asl.conf\n",
      "ttys.applesaved\n",
      "moduli~previous\n",
      "rc.netboot\n",
      "X11\n",
      "afpovertcp.cfg~orig\n",
      "hosts~orig\n",
      "fstab\n",
      "opt\n",
      "nfs.conf~orig\n",
      "hostconfig\n",
      "smb.conf.old\n",
      "kern_loader.conf~previous\n",
      "xinetd.conf.applesaved\n",
      "rtadvd.conf.applesaved\n",
      "sshd_config.system_default\n",
      "hosts\n",
      "efax.rc~previous\n",
      "postfix\n",
      "pf.os\n",
      "pf.anchors\n",
      "php.ini.default-previous~orig\n",
      "ntp.conf\n",
      "php.ini.default-5.2-previous\n",
      "gettytab~orig\n",
      "passwd~orig\n",
      "rpc\n",
      "master.passwd\n",
      "sshd_config~previous\n",
      "fstab.hd\n",
      "openldap\n",
      "aliases\n",
      "paths~orig\n",
      "fonts\n",
      "openssl\n",
      "com.apple.screensharing.agent.launchd\n",
      "wfs\n",
      "hostconfig.system_default\n",
      "shells~orig\n",
      "sshd_config.applesaved\n",
      "dumpdates\n",
      "protocols\n",
      "AFP.conf\n",
      "cups\n",
      "man.conf\n",
      "services\n",
      "mail.rc~orig\n",
      "resolver\n",
      "passwd\n",
      "zprofile\n",
      "afpovertcp.cfg\n",
      "newsyslog.conf\n",
      "bashrc~previous\n",
      "mail.rc\n",
      "notify.conf\n",
      "sysctl.conf.pg\n"
     ]
    }
   ],
   "source": [
    "import os   # use the \"operating system\" module in Python\n",
    "\n",
    "for one_filename in os.listdir('/etc/'):\n",
    "    print(one_filename)"
   ]
  },
  {
   "cell_type": "code",
   "execution_count": null,
   "metadata": {},
   "outputs": [],
   "source": []
  }
 ],
 "metadata": {
  "kernelspec": {
   "display_name": "Python 3",
   "language": "python",
   "name": "python3"
  },
  "language_info": {
   "codemirror_mode": {
    "name": "ipython",
    "version": 3
   },
   "file_extension": ".py",
   "mimetype": "text/x-python",
   "name": "python",
   "nbconvert_exporter": "python",
   "pygments_lexer": "ipython3",
   "version": "3.7.7"
  }
 },
 "nbformat": 4,
 "nbformat_minor": 2
}
