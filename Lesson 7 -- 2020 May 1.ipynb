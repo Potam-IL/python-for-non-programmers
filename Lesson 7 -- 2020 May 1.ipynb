{
 "cells": [
  {
   "cell_type": "code",
   "execution_count": 4,
   "metadata": {
    "scrolled": true
   },
   "outputs": [
    {
     "name": "stdout",
     "output_type": "stream",
     "text": [
      "Enter a sentence: Is this a test?\n",
      "vowels: 4\n",
      "digits: 0\n",
      "other: 11\n"
     ]
    }
   ],
   "source": [
    "# (1) Ask the user to enter a sentence.\n",
    "# Print the number of vowels, digits, and other characters \n",
    "# that were in the user’s sentence\n",
    "\n",
    "vowel_count = 0\n",
    "digit_count = 0\n",
    "other_count = 0\n",
    "\n",
    "s = input(\"Enter a sentence: \").strip()\n",
    "\n",
    "for one_character in s:\n",
    "    if one_character.lower() in 'aeiou':\n",
    "        vowel_count += 1\n",
    "        \n",
    "    elif one_character.isdigit():\n",
    "        digit_count += 1\n",
    "        \n",
    "    else:\n",
    "        other_count += 1\n",
    "        \n",
    "print(f'vowels: {vowel_count}')\n",
    "print(f'digits: {digit_count}')\n",
    "print(f'other: {other_count}')     "
   ]
  },
  {
   "cell_type": "code",
   "execution_count": 5,
   "metadata": {},
   "outputs": [
    {
     "data": {
      "text/plain": [
       "'a    b  c'"
      ]
     },
     "execution_count": 5,
     "metadata": {},
     "output_type": "execute_result"
    }
   ],
   "source": [
    "s = '   a    b  c    '\n",
    "s.strip()"
   ]
  },
  {
   "cell_type": "code",
   "execution_count": 6,
   "metadata": {},
   "outputs": [
    {
     "name": "stdout",
     "output_type": "stream",
     "text": [
      "Enter your name: Reuven\n"
     ]
    }
   ],
   "source": [
    "# (2) Ask the user to enter their name. \n",
    "# Print a “name triangle,” meaning: \n",
    "# On the first line, print just the first letter.\n",
    "# Then on the second line, print the first two letters.\n",
    "# Then on the third line, print the first three letters…\n",
    "# If the name is n letter long, then there should be n lines,\n",
    "# with the nth line printing the user’s name (as entered).\n",
    "\n",
    "name = input(\"Enter your name: \").strip()\n",
    "\n"
   ]
  },
  {
   "cell_type": "code",
   "execution_count": null,
   "metadata": {},
   "outputs": [],
   "source": [
    "for \n",
    "\n",
    "# R           # name[:1]\n",
    "# Re          # name[:2]\n",
    "# Reu         # name[:3]\n",
    "# Reuv        # name[:4]\n",
    "# Reuve       # name[:5]\n",
    "# Reuven      # name[:6]\n"
   ]
  },
  {
   "cell_type": "code",
   "execution_count": null,
   "metadata": {},
   "outputs": [],
   "source": [
    "#     Ask the user, repeatedly, to enter numbers. If they enter an empty/blank string, then stop asking and print the total. If the user enters a non-number, then scold them and ask again."
   ]
  }
 ],
 "metadata": {
  "kernelspec": {
   "display_name": "Python 3",
   "language": "python",
   "name": "python3"
  },
  "language_info": {
   "codemirror_mode": {
    "name": "ipython",
    "version": 3
   },
   "file_extension": ".py",
   "mimetype": "text/x-python",
   "name": "python",
   "nbconvert_exporter": "python",
   "pygments_lexer": "ipython3",
   "version": "3.7.7"
  }
 },
 "nbformat": 4,
 "nbformat_minor": 2
}
