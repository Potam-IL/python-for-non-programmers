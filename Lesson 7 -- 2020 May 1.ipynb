{
 "cells": [
  {
   "cell_type": "code",
   "execution_count": null,
   "metadata": {},
   "outputs": [],
   "source": [
    "# (1) Ask the user to enter a sentence.\n",
    "# Print the number of vowels, digits, and other characters \n",
    "# that were in the user’s sentence\n",
    "\n",
    "vowel_count = 0\n",
    "digit_count = 0\n",
    "other_count = 0\n",
    "\n",
    "s = input(\"Enter a sentence: \").strip()\n",
    "\n",
    "for one_character in s:\n",
    "    \n",
    "\n"
   ]
  },
  {
   "cell_type": "code",
   "execution_count": null,
   "metadata": {},
   "outputs": [],
   "source": [
    "#     Ask the user to enter their name. Print a “name triangle,” meaning: On the first line, print just the first letter. Then on the second line, print the first two letters. Then on the third line, print the first three letters… If the name is n letter long, then there should be n lines, with the nth line printing the user’s name (as entered).\n",
    "#     Ask the user, repeatedly, to enter numbers. If they enter an empty/blank string, then stop asking and print the total. If the user enters a non-number, then scold them and ask again."
   ]
  }
 ],
 "metadata": {
  "kernelspec": {
   "display_name": "Python 3",
   "language": "python",
   "name": "python3"
  },
  "language_info": {
   "codemirror_mode": {
    "name": "ipython",
    "version": 3
   },
   "file_extension": ".py",
   "mimetype": "text/x-python",
   "name": "python",
   "nbconvert_exporter": "python",
   "pygments_lexer": "ipython3",
   "version": "3.7.7"
  }
 },
 "nbformat": 4,
 "nbformat_minor": 2
}
